{
 "cells": [
  {
   "cell_type": "markdown",
   "metadata": {},
   "source": [
    "# Extract Features for Train Set"
   ]
  },
  {
   "cell_type": "code",
   "execution_count": null,
   "metadata": {},
   "outputs": [],
   "source": [
    "import keras\n",
    "from keras.datasets import cifar10\n",
    "import numpy as np\n",
    "from keras.applications.mobilenet_v2 import MobileNetV2\n",
    "from keras.applications.mobilenet_v2 import preprocess_input\n",
    "import scipy\n",
    "from scipy import misc\n",
    "import skimage\n",
    "from skimage import transform\n",
    "import os\n",
    "\n",
    "# load the data\n",
    "(x_train, y_train), (x_test, y_test) = cifar10.load_data()\n",
    "y_train = np.squeeze(y_train) # get (50000,) instead of (50000,1)\n",
    "print('data loaded')\n",
    "\n",
    "# load MobileNetV2 model + remove final classification layers\n",
    "model = MobileNetV2(weights='imagenet', include_top=False, \n",
    "                    input_shape=(224, 224,3))\n",
    "print('model loaded')"
   ]
  },
  {
   "cell_type": "code",
   "execution_count": null,
   "metadata": {
    "scrolled": true
   },
   "outputs": [],
   "source": [
    "#model.summary()\n",
    "print(x_train.shape)\n",
    "print(y_train.shape)\n",
    "print(y_test.shape)"
   ]
  },
  {
   "cell_type": "code",
   "execution_count": null,
   "metadata": {},
   "outputs": [],
   "source": [
    "path = ''\n",
    "\n",
    "# obtain train features, read from file if already gotten\n",
    "if os.path.exists(path + 'mnv2_features_train.npz'):\n",
    "    print('features detected (train)')\n",
    "    features = np.load(path + 'mnv2_features_train.npz')['features']\n",
    "else:\n",
    "    print('features file not detected (train)')\n",
    "    print('calculating now ...')\n",
    "    # first convert to correct size (upsize) and then to float32\n",
    "    big_x_train = np.array([scipy.misc.imresize(x_train[i], (224, 224, 3)) \n",
    "                            for i in range(0, len(x_train))]).astype('float32') \n",
    "    # pre-processing is specific to each network\n",
    "    mnv2_input_train = preprocess_input(big_x_train)\n",
    "    print('train data preprocessed')\n",
    "    # predict and save features\n",
    "    features = model.predict(mnv2_input_train, verbose=1)\n",
    "    features = np.squeeze(features)\n",
    "    # save features in an uncompressed archive \n",
    "    np.savez(path + 'mnv2_features_train', features=features)\n",
    "    print('train features saved (train)')\n",
    "\n",
    "print('features ready (train)')\n",
    "print(features.shape)"
   ]
  },
  {
   "cell_type": "markdown",
   "metadata": {},
   "source": [
    "# Extract Bottleneck Features for Test Set"
   ]
  },
  {
   "cell_type": "code",
   "execution_count": null,
   "metadata": {},
   "outputs": [],
   "source": [
    "# obtain features (test)\n",
    "if os.path.exists(path + 'mnv2_features_test.npz'):\n",
    "    print('features detected (test)')\n",
    "    features_test = np.load('mnv2_features_test.npz')['features_test']\n",
    "else:\n",
    "    print('features file not detected (test)')\n",
    "    print('calculating now ...')\n",
    "    # first convert to correct size (upsize) and then to float32\n",
    "    big_x_test = np.array([scipy.misc.imresize(x_test[i], (224, 224, 3)) \n",
    "                       for i in range(0, len(x_test))]).astype('float32')\n",
    "    # pre-processing is specific to each network\n",
    "    mnv2_input_test = preprocess_input(big_x_test)\n",
    "    # predict and save features (test)\n",
    "    features_test = model.predict(mnv2_input_test, verbose=1)\n",
    "    features_test = np.squeeze(features_test)\n",
    "    np.savez(path + 'mnv2_features_test', features_test=features_test)\n",
    "print('features saved (test)')"
   ]
  },
  {
   "cell_type": "markdown",
   "metadata": {},
   "source": [
    "# Train a Shallow NN"
   ]
  },
  {
   "cell_type": "code",
   "execution_count": null,
   "metadata": {},
   "outputs": [],
   "source": [
    "from keras.utils import np_utils\n",
    "\n",
    "# one-hot encode the labels\n",
    "y_train = np_utils.to_categorical(y_train, 10)\n",
    "y_test = np_utils.to_categorical(y_test, 10)"
   ]
  },
  {
   "cell_type": "code",
   "execution_count": null,
   "metadata": {},
   "outputs": [],
   "source": [
    "print(y_train.shape)"
   ]
  },
  {
   "cell_type": "code",
   "execution_count": null,
   "metadata": {},
   "outputs": [],
   "source": [
    "from keras.callbacks import ModelCheckpoint   \n",
    "from keras.models import Sequential\n",
    "from keras.layers import Dense, Dropout, Conv2D, Flatten\n",
    "\n",
    "D = 7*7*1280\n",
    "#X_train = features.reshape(50000, D)\n",
    "#print(X_train.shape)\n",
    "\n",
    "mlp = Sequential()\n",
    "mlp.add(Conv2D(filters=128, kernel_size=1, strides=1, \n",
    "               input_shape=(7, 7, 1280)))\n",
    "mlp.add(Flatten())\n",
    "mlp.add(Dense(100, activation='relu', input_shape=(D,)))\n",
    "mlp.add(Dense(10, activation='softmax'))\n",
    "\n",
    "mlp.summary()\n",
    "\n",
    "mlp.compile(loss='categorical_crossentropy', optimizer='rmsprop', metrics=['accuracy'])\n",
    "\n",
    "checkpointer = ModelCheckpoint(filepath= path + 'model.best.hdf5', \n",
    "                               verbose=1, save_best_only=True)\n",
    "\n",
    "log = mlp.fit(features, y_train, batch_size=128, epochs=10,\n",
    "          callbacks=[checkpointer], verbose=1, validation_data=(features_test, y_test))"
   ]
  },
  {
   "cell_type": "code",
   "execution_count": null,
   "metadata": {},
   "outputs": [],
   "source": [
    "# load the weights that yielded the best validation accuracy\n",
    "mlp.load_weights(path + 'model.best.hdf5')\n",
    "\n",
    "# evaluate test accuracy\n",
    "X_test = features_test.reshape(10000, D)\n",
    "score = mlp.evaluate(features_test, y_test, verbose=1)\n",
    "accuracy = 100*score[1]\n",
    "\n",
    "# print test accuracy\n",
    "print('Test accuracy: %.4f%%' % accuracy)"
   ]
  },
  {
   "cell_type": "code",
   "execution_count": null,
   "metadata": {},
   "outputs": [],
   "source": [
    "import matplotlib.pyplot as pl\n",
    "pl.plot(log.history['acc'], label='Training')\n",
    "pl.plot(log.history['val_acc'], label='Testing')\n",
    "pl.legend()\n",
    "pl.grid()"
   ]
  }
 ],
 "metadata": {
  "kernelspec": {
   "display_name": "Python 3",
   "language": "python",
   "name": "python3"
  },
  "language_info": {
   "codemirror_mode": {
    "name": "ipython",
    "version": 3
   },
   "file_extension": ".py",
   "mimetype": "text/x-python",
   "name": "python",
   "nbconvert_exporter": "python",
   "pygments_lexer": "ipython3",
   "version": "3.6.8"
  }
 },
 "nbformat": 4,
 "nbformat_minor": 2
}
