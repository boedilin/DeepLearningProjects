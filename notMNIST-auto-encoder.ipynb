{
 "cells": [
  {
   "cell_type": "code",
   "execution_count": 32,
   "metadata": {},
   "outputs": [],
   "source": [
    "import keras\n",
    "from matplotlib import pyplot as pl\n",
    "import numpy as np\n",
    "import gzip\n",
    "from keras.models import Sequential\n",
    "from keras.layers import Input, Conv2D, MaxPooling2D, UpSampling2D\n",
    "from keras.layers.core import Dense, Dropout, Flatten, Activation\n",
    "from keras.models import Model\n",
    "from keras.optimizers import RMSprop\n",
    "from keras.utils import np_utils\n",
    "from sklearn.preprocessing import StandardScaler\n",
    "from sklearn.svm import SVC\n",
    "from sklearn import metrics\n",
    "%matplotlib inline"
   ]
  },
  {
   "cell_type": "code",
   "execution_count": 2,
   "metadata": {},
   "outputs": [],
   "source": [
    "def extract_data(filename, num_images):\n",
    "    with gzip.open(filename) as bytestream:\n",
    "        bytestream.read(16)\n",
    "        buf = bytestream.read(28 * 28 * num_images)\n",
    "        data = np.frombuffer(buf, dtype=np.uint8).astype(np.float32)\n",
    "        data = data.reshape(num_images, 28,28)\n",
    "        return data\n",
    "\n",
    "def extract_labels(filename, num_images):\n",
    "    with gzip.open(filename) as bytestream:\n",
    "        bytestream.read(8)\n",
    "        buf = bytestream.read(1 * num_images)\n",
    "        labels = np.frombuffer(buf, dtype=np.uint8).astype(np.int64)\n",
    "        return labels\n",
    "\n",
    "# Create dictionary of target classes\n",
    "label_dict = {\n",
    " 0: 'A',\n",
    " 1: 'B',\n",
    " 2: 'C',\n",
    " 3: 'D',\n",
    " 4: 'E',\n",
    " 5: 'F',\n",
    " 6: 'G',\n",
    " 7: 'H',\n",
    " 8: 'I',\n",
    " 9: 'J',\n",
    "}"
   ]
  },
  {
   "cell_type": "code",
   "execution_count": 3,
   "metadata": {},
   "outputs": [
    {
     "name": "stdout",
     "output_type": "stream",
     "text": [
      "[[0. 0. 0. 0. 0. 1. 0. 0. 0. 0.]\n",
      " [0. 0. 0. 0. 0. 0. 0. 0. 1. 0.]\n",
      " [0. 0. 0. 0. 0. 0. 0. 0. 1. 0.]\n",
      " [0. 0. 0. 0. 0. 0. 1. 0. 0. 0.]\n",
      " [0. 0. 0. 1. 0. 0. 0. 0. 0. 0.]\n",
      " [1. 0. 0. 0. 0. 0. 0. 0. 0. 0.]\n",
      " [0. 0. 0. 0. 0. 0. 0. 0. 1. 0.]\n",
      " [1. 0. 0. 0. 0. 0. 0. 0. 0. 0.]\n",
      " [0. 1. 0. 0. 0. 0. 0. 0. 0. 0.]\n",
      " [0. 0. 0. 0. 0. 1. 0. 0. 0. 0.]]\n"
     ]
    }
   ],
   "source": [
    "train_data = extract_data('train-images-idx3-ubyte.gz', 60000)\n",
    "test_data = extract_data('t10k-images-idx3-ubyte.gz', 10000)\n",
    "\n",
    "train_labels = extract_labels('train-labels-idx1-ubyte.gz',60000)\n",
    "test_labels = extract_labels('t10k-labels-idx1-ubyte.gz',10000)\n",
    "\n",
    "X_train = train_data.reshape(-1, 28,28, 1)  # add grey channel\n",
    "X_test = test_data.reshape(-1, 28,28, 1)\n",
    "\n",
    "n_classes = 10\n",
    "Y_train = np_utils.to_categorical(train_labels, n_classes) # 1-hot\n",
    "Y_test = np_utils.to_categorical(test_labels, n_classes)\n",
    "print(Y_train[:10])"
   ]
  },
  {
   "cell_type": "code",
   "execution_count": 4,
   "metadata": {},
   "outputs": [
    {
     "name": "stdout",
     "output_type": "stream",
     "text": [
      "Training set (images) shape: (60000, 28, 28, 1)\n",
      "Test set (images) shape: (10000, 28, 28, 1)\n",
      "data type:  float32 float32\n"
     ]
    }
   ],
   "source": [
    "# Shape of training set\n",
    "print(\"Training set (images) shape: {shape}\".format(shape=X_train.shape))\n",
    "# Shape of test set\n",
    "print(\"Test set (images) shape: {shape}\".format(shape=X_test.shape))\n",
    "# Type of data - should be float32\n",
    "print('data type: ', X_train.dtype, X_test.dtype)"
   ]
  },
  {
   "cell_type": "code",
   "execution_count": 5,
   "metadata": {},
   "outputs": [
    {
     "data": {
      "text/plain": [
       "Text(0.5,1,'(Label: D)')"
      ]
     },
     "execution_count": 5,
     "metadata": {},
     "output_type": "execute_result"
    },
    {
     "data": {
      "image/png": "[encoded data removed]",
      "text/plain": [
       "<matplotlib.figure.Figure at 0x18173a1fd0>"
      ]
     },
     "metadata": {},
     "output_type": "display_data"
    }
   ],
   "source": [
    "# Display the first image in training data\n",
    "pl.subplot(121)\n",
    "curr_img = np.reshape(X_train[0], (28,28))\n",
    "curr_lbl = train_labels[0]\n",
    "pl.imshow(curr_img, cmap='gray')\n",
    "pl.title(\"(Label: \" + str(label_dict[curr_lbl]) + \")\")\n",
    "\n",
    "# Display the first image in testing data\n",
    "pl.subplot(122)\n",
    "curr_img = np.reshape(X_test[0], (28,28))\n",
    "curr_lbl = test_labels[0]\n",
    "pl.imshow(curr_img, cmap='gray')\n",
    "pl.title(\"(Label: \" + str(label_dict[curr_lbl]) + \")\")"
   ]
  },
  {
   "cell_type": "code",
   "execution_count": 6,
   "metadata": {},
   "outputs": [],
   "source": [
    "# rescale the data in range 0-1\n",
    "X_train = X_train / 255.0\n",
    "X_test = X_test / 255.0"
   ]
  },
  {
   "cell_type": "code",
   "execution_count": null,
   "metadata": {},
   "outputs": [],
   "source": [
    "cnn1 = Sequential()\n",
    "cnn1.add(Conv2D(filters=32, kernel_size=4, input_shape=(28, 28, 1)))\n",
    "cnn1.add(Activation('relu'))\n",
    "cnn1.add(Conv2D(filters=32, kernel_size=3))\n",
    "cnn1.add(Activation('relu'))\n",
    "cnn1.add(MaxPooling2D(pool_size=2))\n",
    "cnn1.add(Flatten())\n",
    "cnn1.add(Dense(100, activation='relu'))\n",
    "cnn1.add(Dense(n_classes, activation='softmax'))\n",
    "cnn1.summary()"
   ]
  },
  {
   "cell_type": "code",
   "execution_count": null,
   "metadata": {},
   "outputs": [],
   "source": [
    "cnn1.compile(loss='categorical_crossentropy', optimizer='adam',\n",
    "              metrics=['accuracy'])\n",
    "log = cnn1.fit(X_train, Y_train, batch_size=128, epochs=10,\n",
    "                    verbose=1, validation_data=(X_test, Y_test))"
   ]
  },
  {
   "cell_type": "code",
   "execution_count": null,
   "metadata": {},
   "outputs": [],
   "source": [
    "pl.plot(log.history['acc'], label='Training')\n",
    "pl.plot(log.history['val_acc'], label='Testing')\n",
    "pl.legend()\n",
    "pl.grid()"
   ]
  },
  {
   "cell_type": "code",
   "execution_count": null,
   "metadata": {},
   "outputs": [],
   "source": [
    "loss_test, metric_test = cnn1.evaluate(test_data, Y_test, verbose=1)\n",
    "print('Test loss:', loss_test)\n",
    "print('Test accuracy:', metric_test)"
   ]
  },
  {
   "cell_type": "markdown",
   "metadata": {},
   "source": [
    "## Shallow dense autoencoder"
   ]
  },
  {
   "cell_type": "code",
   "execution_count": 22,
   "metadata": {},
   "outputs": [],
   "source": [
    "# size of our encoded representation\n",
    "encoding_dim = 32\n",
    "\n",
    "input_img = Input(shape=(784,))\n",
    "encoded = Dense(encoding_dim, activation='relu')(input_img)\n",
    "decoded = Dense(784, activation='sigmoid')(encoded)\n",
    "\n",
    "autoencoder = Model(inputs=input_img, outputs=decoded)\n",
    "encoder = Model(inputs=input_img, outputs=encoded)\n",
    "# create a placeholder for an encoded (32-dimensional) input\n",
    "encoded_input = Input(shape=(encoding_dim,))\n",
    "# retrieve the last layer of the autoencoder model\n",
    "decoder_layer = autoencoder.layers[-1]\n",
    "# create the decoder model\n",
    "decoder = Model(inputs=encoded_input, \n",
    "                outputs=decoder_layer(encoded_input))"
   ]
  },
  {
   "cell_type": "code",
   "execution_count": 23,
   "metadata": {},
   "outputs": [],
   "source": [
    "autoencoder.compile(optimizer='adadelta', \n",
    "                    loss='mean_squared_error')"
   ]
  },
  {
   "cell_type": "code",
   "execution_count": 24,
   "metadata": {},
   "outputs": [],
   "source": [
    "# for visualiztion\n",
    "def plot_result(x_test,decoded_imgs):\n",
    "    n = 10\n",
    "    pl.figure(figsize=(20, 4))\n",
    "    for i in range(n):\n",
    "        # display original\n",
    "        ax = pl.subplot(2, n, i + 1)\n",
    "        pl.imshow(x_test[i].reshape(28, 28))\n",
    "        pl.gray()\n",
    "        ax.get_xaxis().set_visible(False)\n",
    "        ax.get_yaxis().set_visible(False)\n",
    "\n",
    "        # display reconstruction\n",
    "        ax = pl.subplot(2, n, i + 1 + n)\n",
    "        pl.imshow(decoded_imgs[i].reshape(28, 28))\n",
    "        pl.gray()\n",
    "        ax.get_xaxis().set_visible(False)\n",
    "        ax.get_yaxis().set_visible(False)\n",
    "    pl.show()"
   ]
  },
  {
   "cell_type": "code",
   "execution_count": 28,
   "metadata": {},
   "outputs": [],
   "source": [
    "X_train_flat = X_train.reshape(60000,784)\n",
    "X_test_flat = X_test.reshape(10000,784)"
   ]
  },
  {
   "cell_type": "code",
   "execution_count": 29,
   "metadata": {
    "scrolled": true
   },
   "outputs": [
    {
     "name": "stdout",
     "output_type": "stream",
     "text": [
      "Train on 60000 samples, validate on 10000 samples\n",
      "Epoch 1/50\n",
      "60000/60000 [==============================] - 1s 15us/step - loss: 0.2034 - val_loss: 0.1900\n",
      "Epoch 2/50\n",
      "60000/60000 [==============================] - 1s 12us/step - loss: 0.1766 - val_loss: 0.1635\n",
      "Epoch 3/50\n",
      "60000/60000 [==============================] - 1s 12us/step - loss: 0.1533 - val_loss: 0.1404\n",
      "Epoch 4/50\n",
      "60000/60000 [==============================] - 1s 12us/step - loss: 0.1327 - val_loss: 0.1190\n",
      "Epoch 5/50\n",
      "60000/60000 [==============================] - 1s 12us/step - loss: 0.1160 - val_loss: 0.1042\n",
      "Epoch 6/50\n",
      "60000/60000 [==============================] - 1s 11us/step - loss: 0.1054 - val_loss: 0.0950\n",
      "Epoch 7/50\n",
      "60000/60000 [==============================] - 1s 11us/step - loss: 0.0979 - val_loss: 0.0879\n",
      "Epoch 8/50\n",
      "60000/60000 [==============================] - 1s 11us/step - loss: 0.0914 - val_loss: 0.0817\n",
      "Epoch 9/50\n",
      "60000/60000 [==============================] - 1s 12us/step - loss: 0.0857 - val_loss: 0.0764\n",
      "Epoch 10/50\n",
      "60000/60000 [==============================] - 1s 12us/step - loss: 0.0806 - val_loss: 0.0716\n",
      "Epoch 11/50\n",
      "60000/60000 [==============================] - 1s 11us/step - loss: 0.0762 - val_loss: 0.0678\n",
      "Epoch 12/50\n",
      "60000/60000 [==============================] - 1s 12us/step - loss: 0.0723 - val_loss: 0.0643\n",
      "Epoch 13/50\n",
      "60000/60000 [==============================] - 1s 12us/step - loss: 0.0688 - val_loss: 0.0613\n",
      "Epoch 14/50\n",
      "60000/60000 [==============================] - 1s 12us/step - loss: 0.0657 - val_loss: 0.0584\n",
      "Epoch 15/50\n",
      "60000/60000 [==============================] - 1s 12us/step - loss: 0.0628 - val_loss: 0.0559\n",
      "Epoch 16/50\n",
      "60000/60000 [==============================] - 1s 12us/step - loss: 0.0603 - val_loss: 0.0537\n",
      "Epoch 17/50\n",
      "60000/60000 [==============================] - 1s 13us/step - loss: 0.0580 - val_loss: 0.0517\n",
      "Epoch 18/50\n",
      "60000/60000 [==============================] - 1s 12us/step - loss: 0.0559 - val_loss: 0.0498\n",
      "Epoch 19/50\n",
      "60000/60000 [==============================] - 1s 12us/step - loss: 0.0540 - val_loss: 0.0482\n",
      "Epoch 20/50\n",
      "60000/60000 [==============================] - 1s 13us/step - loss: 0.0524 - val_loss: 0.0466\n",
      "Epoch 21/50\n",
      "60000/60000 [==============================] - 1s 13us/step - loss: 0.0508 - val_loss: 0.0454\n",
      "Epoch 22/50\n",
      "60000/60000 [==============================] - 1s 13us/step - loss: 0.0494 - val_loss: 0.0440\n",
      "Epoch 23/50\n",
      "60000/60000 [==============================] - 1s 13us/step - loss: 0.0482 - val_loss: 0.0429\n",
      "Epoch 24/50\n",
      "60000/60000 [==============================] - 1s 12us/step - loss: 0.0470 - val_loss: 0.0419\n",
      "Epoch 25/50\n",
      "60000/60000 [==============================] - 1s 12us/step - loss: 0.0459 - val_loss: 0.0409\n",
      "Epoch 26/50\n",
      "60000/60000 [==============================] - 1s 12us/step - loss: 0.0450 - val_loss: 0.0400\n",
      "Epoch 27/50\n",
      "60000/60000 [==============================] - 1s 12us/step - loss: 0.0441 - val_loss: 0.0392\n",
      "Epoch 28/50\n",
      "60000/60000 [==============================] - 1s 12us/step - loss: 0.0432 - val_loss: 0.0384\n",
      "Epoch 29/50\n",
      "60000/60000 [==============================] - 1s 12us/step - loss: 0.0425 - val_loss: 0.0377\n",
      "Epoch 30/50\n",
      "60000/60000 [==============================] - 1s 12us/step - loss: 0.0418 - val_loss: 0.0371\n",
      "Epoch 31/50\n",
      "60000/60000 [==============================] - 1s 12us/step - loss: 0.0411 - val_loss: 0.0365\n",
      "Epoch 32/50\n",
      "60000/60000 [==============================] - 1s 12us/step - loss: 0.0405 - val_loss: 0.0359\n",
      "Epoch 33/50\n",
      "60000/60000 [==============================] - 1s 12us/step - loss: 0.0399 - val_loss: 0.0353\n",
      "Epoch 34/50\n",
      "60000/60000 [==============================] - 1s 12us/step - loss: 0.0393 - val_loss: 0.0348\n",
      "Epoch 35/50\n",
      "60000/60000 [==============================] - 1s 12us/step - loss: 0.0388 - val_loss: 0.0343\n",
      "Epoch 36/50\n",
      "60000/60000 [==============================] - 1s 12us/step - loss: 0.0383 - val_loss: 0.0338\n",
      "Epoch 37/50\n",
      "60000/60000 [==============================] - 1s 12us/step - loss: 0.0379 - val_loss: 0.0334\n",
      "Epoch 38/50\n",
      "60000/60000 [==============================] - 1s 12us/step - loss: 0.0374 - val_loss: 0.0330\n",
      "Epoch 39/50\n",
      "60000/60000 [==============================] - 1s 12us/step - loss: 0.0370 - val_loss: 0.0326\n",
      "Epoch 40/50\n",
      "60000/60000 [==============================] - 1s 12us/step - loss: 0.0366 - val_loss: 0.0322\n",
      "Epoch 41/50\n",
      "60000/60000 [==============================] - 1s 13us/step - loss: 0.0362 - val_loss: 0.0319\n",
      "Epoch 42/50\n",
      "60000/60000 [==============================] - 1s 13us/step - loss: 0.0358 - val_loss: 0.0315\n",
      "Epoch 43/50\n",
      "60000/60000 [==============================] - 1s 14us/step - loss: 0.0355 - val_loss: 0.0312\n",
      "Epoch 44/50\n",
      "60000/60000 [==============================] - 1s 13us/step - loss: 0.0352 - val_loss: 0.0309\n",
      "Epoch 45/50\n",
      "60000/60000 [==============================] - 1s 14us/step - loss: 0.0349 - val_loss: 0.0306\n",
      "Epoch 46/50\n",
      "60000/60000 [==============================] - 1s 14us/step - loss: 0.0346 - val_loss: 0.0303\n",
      "Epoch 47/50\n",
      "60000/60000 [==============================] - 1s 14us/step - loss: 0.0343 - val_loss: 0.0300\n",
      "Epoch 48/50\n",
      "60000/60000 [==============================] - 1s 13us/step - loss: 0.0340 - val_loss: 0.0298\n",
      "Epoch 49/50\n",
      "60000/60000 [==============================] - 1s 13us/step - loss: 0.0338 - val_loss: 0.0296\n",
      "Epoch 50/50\n",
      "60000/60000 [==============================] - 1s 13us/step - loss: 0.0335 - val_loss: 0.0293\n"
     ]
    }
   ],
   "source": [
    "log = autoencoder.fit(X_train_flat, X_train_flat,\n",
    "                      epochs=50, batch_size=256,\n",
    "                      shuffle=True,\n",
    "                      validation_data=(X_test_flat, X_test_flat))"
   ]
  },
  {
   "cell_type": "code",
   "execution_count": null,
   "metadata": {},
   "outputs": [],
   "source": [
    "pl.plot(log.history['loss'], label='Training')\n",
    "pl.plot(log.history['val_loss'], label='Testing')\n",
    "pl.legend()\n",
    "pl.grid()"
   ]
  },
  {
   "cell_type": "code",
   "execution_count": 20,
   "metadata": {},
   "outputs": [
    {
     "data": {
      "image/png": "[encoded data removed]",
      "text/plain": [
       "<matplotlib.figure.Figure at 0x183bff4d30>"
      ]
     },
     "metadata": {},
     "output_type": "display_data"
    }
   ],
   "source": [
    "# encode and decode some digits\n",
    "# note that we take them from the *test* set\n",
    "encoded_imgs = encoder.predict(X_test_flat)\n",
    "decoded_imgs = decoder.predict(encoded_imgs)\n",
    "plot_result(X_test_flat,decoded_imgs)"
   ]
  },
  {
   "cell_type": "markdown",
   "metadata": {},
   "source": [
    "## Use the encoded features to train another classifier"
   ]
  },
  {
   "cell_type": "code",
   "execution_count": 33,
   "metadata": {},
   "outputs": [
    {
     "name": "stdout",
     "output_type": "stream",
     "text": [
      "(60000, 32)\n",
      "(60000, 10)\n",
      "(10000, 32)\n",
      "(10000, 10)\n"
     ]
    }
   ],
   "source": [
    "X_train_feat = encoder.predict(X_train_flat)\n",
    "X_test_feat = encoder.predict(X_test_flat)\n",
    "\n",
    "# Normalization (standardization) of training and test sets\n",
    "scaler = StandardScaler()  \n",
    "scaler.fit(X_train_feat)\n",
    "X_train_feat = scaler.transform(X_train_feat)  \n",
    "X_test_feat = scaler.transform(X_test_feat)\n",
    "\n",
    "print(X_train_feat.shape)\n",
    "print(Y_train.shape)\n",
    "print(X_test_feat.shape)\n",
    "print(Y_test.shape)"
   ]
  },
  {
   "cell_type": "code",
   "execution_count": 57,
   "metadata": {},
   "outputs": [
    {
     "data": {
      "text/plain": [
       "SVC(C=1.0, cache_size=7000, class_weight=None, coef0=0.0,\n",
       "  decision_function_shape='ovr', degree=3, gamma='auto', kernel='linear',\n",
       "  max_iter=-1, probability=False, random_state=None, shrinking=True,\n",
       "  tol=0.001, verbose=False)"
      ]
     },
     "execution_count": 57,
     "metadata": {},
     "output_type": "execute_result"
    }
   ],
   "source": [
    "# using the features\n",
    "clf = SVC(kernel='linear', cache_size=7000)\n",
    "clf.fit(X_train_feat, train_labels)"
   ]
  },
  {
   "cell_type": "code",
   "execution_count": 58,
   "metadata": {},
   "outputs": [
    {
     "name": "stdout",
     "output_type": "stream",
     "text": [
      "Classification report for classifier SVC(C=1.0, cache_size=7000, class_weight=None, coef0=0.0,\n",
      "  decision_function_shape='ovr', degree=3, gamma='auto', kernel='linear',\n",
      "  max_iter=-1, probability=False, random_state=None, shrinking=True,\n",
      "  tol=0.001, verbose=False):\n",
      "             precision    recall  f1-score   support\n",
      "\n",
      "          0       0.90      0.90      0.90      1000\n",
      "          1       0.90      0.87      0.88      1000\n",
      "          2       0.90      0.92      0.91      1000\n",
      "          3       0.92      0.90      0.91      1000\n",
      "          4       0.89      0.87      0.88      1000\n",
      "          5       0.90      0.94      0.92      1000\n",
      "          6       0.88      0.88      0.88      1000\n",
      "          7       0.92      0.89      0.90      1000\n",
      "          8       0.89      0.86      0.88      1000\n",
      "          9       0.85      0.94      0.89      1000\n",
      "\n",
      "avg / total       0.90      0.89      0.89     10000\n",
      "\n",
      "\n"
     ]
    }
   ],
   "source": [
    "y_pred = clf.predict(X_test_feat)\n",
    "\n",
    "# Print classification results with confusion matrix\n",
    "print(\"Classification report for classifier %s:\\n%s\\n\" %\n",
    "      (clf, metrics.classification_report(test_labels, y_pred)))\n",
    "# print(\"\\nConfusion matrix:\\n%s\" % metrics.confusion_matrix(test_labels, y_pred))"
   ]
  },
  {
   "cell_type": "code",
   "execution_count": 59,
   "metadata": {},
   "outputs": [
    {
     "data": {
      "text/plain": [
       "SVC(C=1.0, cache_size=7000, class_weight=None, coef0=0.0,\n",
       "  decision_function_shape='ovr', degree=3, gamma='auto', kernel='linear',\n",
       "  max_iter=-1, probability=False, random_state=None, shrinking=True,\n",
       "  tol=0.001, verbose=False)"
      ]
     },
     "execution_count": 59,
     "metadata": {},
     "output_type": "execute_result"
    }
   ],
   "source": [
    "# using the pixels\n",
    "clf_pixel = SVC(kernel='linear', cache_size=7000)\n",
    "clf_pixel.fit(X_train_flat, train_labels)"
   ]
  },
  {
   "cell_type": "code",
   "execution_count": 56,
   "metadata": {},
   "outputs": [
    {
     "name": "stdout",
     "output_type": "stream",
     "text": [
      "Classification report for classifier SVC(C=1.0, cache_size=200, class_weight=None, coef0=0.0,\n",
      "  decision_function_shape='ovr', degree=3, gamma='auto', kernel='rbf',\n",
      "  max_iter=-1, probability=False, random_state=None, shrinking=True,\n",
      "  tol=0.001, verbose=False):\n",
      "             precision    recall  f1-score   support\n",
      "\n",
      "          0       0.94      0.93      0.94      1000\n",
      "          1       0.93      0.91      0.92      1000\n",
      "          2       0.94      0.93      0.93      1000\n",
      "          3       0.94      0.92      0.93      1000\n",
      "          4       0.94      0.90      0.92      1000\n",
      "          5       0.90      0.94      0.92      1000\n",
      "          6       0.90      0.91      0.90      1000\n",
      "          7       0.95      0.92      0.93      1000\n",
      "          8       0.90      0.89      0.89      1000\n",
      "          9       0.88      0.95      0.92      1000\n",
      "\n",
      "avg / total       0.92      0.92      0.92     10000\n",
      "\n",
      "\n"
     ]
    }
   ],
   "source": [
    "y_pred_pixel = clf_pixel.predict(X_test_flat)\n",
    "\n",
    "# Print classification results with confusion matrix\n",
    "print(\"Classification report for classifier %s:\\n%s\\n\" %\n",
    "      (clf, metrics.classification_report(test_labels, y_pred_pixel)))"
   ]
  },
  {
   "cell_type": "markdown",
   "metadata": {},
   "source": [
    "## Conv autoencoder"
   ]
  },
  {
   "cell_type": "code",
   "execution_count": 42,
   "metadata": {},
   "outputs": [
    {
     "name": "stdout",
     "output_type": "stream",
     "text": [
      "_________________________________________________________________\n",
      "Layer (type)                 Output Shape              Param #   \n",
      "=================================================================\n",
      "input_9 (InputLayer)         (None, 28, 28, 1)         0         \n",
      "_________________________________________________________________\n",
      "conv2d_19 (Conv2D)           (None, 28, 28, 32)        320       \n",
      "_________________________________________________________________\n",
      "max_pooling2d_7 (MaxPooling2 (None, 14, 14, 32)        0         \n",
      "_________________________________________________________________\n",
      "conv2d_20 (Conv2D)           (None, 14, 14, 64)        18496     \n",
      "_________________________________________________________________\n",
      "max_pooling2d_8 (MaxPooling2 (None, 7, 7, 64)          0         \n",
      "_________________________________________________________________\n",
      "conv2d_21 (Conv2D)           (None, 7, 7, 128)         73856     \n",
      "_________________________________________________________________\n",
      "conv2d_22 (Conv2D)           (None, 7, 7, 128)         147584    \n",
      "_________________________________________________________________\n",
      "up_sampling2d_7 (UpSampling2 (None, 14, 14, 128)       0         \n",
      "_________________________________________________________________\n",
      "conv2d_23 (Conv2D)           (None, 14, 14, 64)        73792     \n",
      "_________________________________________________________________\n",
      "up_sampling2d_8 (UpSampling2 (None, 28, 28, 64)        0         \n",
      "_________________________________________________________________\n",
      "conv2d_24 (Conv2D)           (None, 28, 28, 1)         577       \n",
      "=================================================================\n",
      "Total params: 314,625\n",
      "Trainable params: 314,625\n",
      "Non-trainable params: 0\n",
      "_________________________________________________________________\n"
     ]
    }
   ],
   "source": [
    "input_img = Input(shape = (28, 28, 1))\n",
    "# encoder\n",
    "conv1 = Conv2D(32, (3, 3), activation='relu', padding='same')(input_img) #28 x 28 x 32\n",
    "pool1 = MaxPooling2D(pool_size=(2, 2))(conv1) #14 x 14 x 32\n",
    "conv2 = Conv2D(64, (3, 3), activation='relu', padding='same')(pool1) #14 x 14 x 64\n",
    "pool2 = MaxPooling2D(pool_size=(2, 2))(conv2) #7 x 7 x 64\n",
    "conv3 = Conv2D(128, (3, 3), activation='relu', padding='same')(pool2) #7 x 7 x 128 (small and thick)\n",
    "# decoder\n",
    "conv4 = Conv2D(128, (3, 3), activation='relu', padding='same')(conv3) #7 x 7 x 128\n",
    "up1 = UpSampling2D((2,2))(conv4) # 14 x 14 x 128\n",
    "conv5 = Conv2D(64, (3, 3), activation='relu', padding='same')(up1) # 14 x 14 x 64\n",
    "up2 = UpSampling2D((2,2))(conv5) # 28 x 28 x 64\n",
    "decoded = Conv2D(1, (3, 3), activation='sigmoid', padding='same')(up2) # 28 x 28 x 1\n",
    "# autoencoder\n",
    "autoencoder = Model(inputs=input_img, outputs=decoded)\n",
    "autoencoder.compile(loss='mean_squared_error', optimizer = RMSprop())\n",
    "autoencoder.summary()"
   ]
  },
  {
   "cell_type": "code",
   "execution_count": 43,
   "metadata": {},
   "outputs": [
    {
     "name": "stdout",
     "output_type": "stream",
     "text": [
      "Train on 60000 samples, validate on 10000 samples\n",
      "Epoch 1/1\n",
      "60000/60000 [==============================] - 309s 5ms/step - loss: 0.0290 - val_loss: 0.0095\n"
     ]
    }
   ],
   "source": [
    "log = autoencoder.fit(X_train, X_train, batch_size=128, epochs=1,\n",
    "                        verbose=1, validation_data=(X_test, X_test))"
   ]
  },
  {
   "cell_type": "markdown",
   "metadata": {},
   "source": [
    "### Predict on test data"
   ]
  },
  {
   "cell_type": "code",
   "execution_count": 45,
   "metadata": {},
   "outputs": [
    {
     "name": "stdout",
     "output_type": "stream",
     "text": [
      "10000/10000 [==============================] - 11s 1ms/step\n",
      "(10000, 28, 28, 1)\n"
     ]
    }
   ],
   "source": [
    "decoded_imgs = autoencoder.predict(X_test, verbose=1)\n",
    "print(decoded_imgs.shape)"
   ]
  },
  {
   "cell_type": "code",
   "execution_count": 46,
   "metadata": {},
   "outputs": [
    {
     "data": {
      "image/png": "[encoded data removed]",
      "text/plain": [
       "<matplotlib.figure.Figure at 0x183e36f7f0>"
      ]
     },
     "metadata": {},
     "output_type": "display_data"
    }
   ],
   "source": [
    "plot_result(X_test_flat,decoded_imgs)"
   ]
  },
  {
   "cell_type": "markdown",
   "metadata": {},
   "source": [
    "## Denoising autoencoder\n",
    "First add some noise."
   ]
  },
  {
   "cell_type": "code",
   "execution_count": 47,
   "metadata": {},
   "outputs": [],
   "source": [
    "noise_factor = 0.4\n",
    "X_train_noisy = X_train + noise_factor * np.random.normal(loc=0.0, scale=1.0, size=X_train.shape)\n",
    "X_test_noisy = X_test + noise_factor * np.random.normal(loc=0.0, scale=1.0, size=X_test.shape)\n",
    "X_train_noisy = np.clip(X_train_noisy, 0., 1.)\n",
    "X_test_noisy = np.clip(X_test_noisy, 0., 1.)"
   ]
  },
  {
   "cell_type": "code",
   "execution_count": 49,
   "metadata": {},
   "outputs": [
    {
     "data": {
      "text/plain": [
       "<matplotlib.image.AxesImage at 0x183ea1a5c0>"
      ]
     },
     "execution_count": 49,
     "metadata": {},
     "output_type": "execute_result"
    },
    {
     "data": {
      "image/png": "[encoded data removed]",
      "text/plain": [
       "<matplotlib.figure.Figure at 0x183e99d940>"
      ]
     },
     "metadata": {},
     "output_type": "display_data"
    }
   ],
   "source": [
    "pl.figure(figsize=[5,5])\n",
    "\n",
    "# Display the first image in training data\n",
    "pl.subplot(121)\n",
    "curr_img = np.reshape(X_train_noisy[1], (28,28))\n",
    "pl.imshow(curr_img, cmap='gray')\n",
    "\n",
    "# Display the first image in testing data\n",
    "pl.subplot(122)\n",
    "curr_img = np.reshape(X_test_noisy[1], (28,28))\n",
    "pl.imshow(curr_img, cmap='gray')"
   ]
  },
  {
   "cell_type": "code",
   "execution_count": 50,
   "metadata": {},
   "outputs": [
    {
     "name": "stdout",
     "output_type": "stream",
     "text": [
      "_________________________________________________________________\n",
      "Layer (type)                 Output Shape              Param #   \n",
      "=================================================================\n",
      "input_10 (InputLayer)        (None, 28, 28, 1)         0         \n",
      "_________________________________________________________________\n",
      "conv2d_25 (Conv2D)           (None, 28, 28, 32)        320       \n",
      "_________________________________________________________________\n",
      "max_pooling2d_9 (MaxPooling2 (None, 14, 14, 32)        0         \n",
      "_________________________________________________________________\n",
      "conv2d_26 (Conv2D)           (None, 14, 14, 64)        18496     \n",
      "_________________________________________________________________\n",
      "max_pooling2d_10 (MaxPooling (None, 7, 7, 64)          0         \n",
      "_________________________________________________________________\n",
      "conv2d_27 (Conv2D)           (None, 7, 7, 128)         73856     \n",
      "_________________________________________________________________\n",
      "conv2d_28 (Conv2D)           (None, 7, 7, 128)         147584    \n",
      "_________________________________________________________________\n",
      "up_sampling2d_9 (UpSampling2 (None, 14, 14, 128)       0         \n",
      "_________________________________________________________________\n",
      "conv2d_29 (Conv2D)           (None, 14, 14, 64)        73792     \n",
      "_________________________________________________________________\n",
      "up_sampling2d_10 (UpSampling (None, 28, 28, 64)        0         \n",
      "_________________________________________________________________\n",
      "conv2d_30 (Conv2D)           (None, 28, 28, 1)         577       \n",
      "=================================================================\n",
      "Total params: 314,625\n",
      "Trainable params: 314,625\n",
      "Non-trainable params: 0\n",
      "_________________________________________________________________\n"
     ]
    }
   ],
   "source": [
    "input_img = Input(shape = (28, 28, 1))\n",
    "# encoder\n",
    "conv1 = Conv2D(32, (3, 3), activation='relu', padding='same')(input_img) #28 x 28 x 32\n",
    "pool1 = MaxPooling2D(pool_size=(2, 2))(conv1) #14 x 14 x 32\n",
    "conv2 = Conv2D(64, (3, 3), activation='relu', padding='same')(pool1) #14 x 14 x 64\n",
    "pool2 = MaxPooling2D(pool_size=(2, 2))(conv2) #7 x 7 x 64\n",
    "conv3 = Conv2D(128, (3, 3), activation='relu', padding='same')(pool2) #7 x 7 x 128 (small and thick)\n",
    "# decoder\n",
    "conv4 = Conv2D(128, (3, 3), activation='relu', padding='same')(conv3) #7 x 7 x 128\n",
    "up1 = UpSampling2D((2,2))(conv4) # 14 x 14 x 128\n",
    "conv5 = Conv2D(64, (3, 3), activation='relu', padding='same')(up1) # 14 x 14 x 64\n",
    "up2 = UpSampling2D((2,2))(conv5) # 28 x 28 x 64\n",
    "decoded = Conv2D(1, (3, 3), activation='sigmoid', padding='same')(up2) # 28 x 28 x 1\n",
    "# autoencoder\n",
    "autoencoder = Model(inputs=input_img, outputs=decoded)\n",
    "autoencoder.compile(loss='mean_squared_error', optimizer = RMSprop())\n",
    "autoencoder.summary()"
   ]
  },
  {
   "cell_type": "code",
   "execution_count": 51,
   "metadata": {},
   "outputs": [
    {
     "name": "stdout",
     "output_type": "stream",
     "text": [
      "Train on 60000 samples, validate on 10000 samples\n",
      "Epoch 1/1\n",
      "60000/60000 [==============================] - 291s 5ms/step - loss: 0.0416 - val_loss: 0.0166\n"
     ]
    }
   ],
   "source": [
    "log = autoencoder.fit(X_train_noisy, X_train, batch_size=128, epochs=1,\n",
    "                        verbose=1, validation_data=(X_test_noisy, X_test))"
   ]
  },
  {
   "cell_type": "code",
   "execution_count": 52,
   "metadata": {},
   "outputs": [
    {
     "name": "stdout",
     "output_type": "stream",
     "text": [
      "10000/10000 [==============================] - 11s 1ms/step\n",
      "(10000, 28, 28, 1)\n"
     ]
    }
   ],
   "source": [
    "decoded_imgs = autoencoder.predict(X_test_noisy, verbose=1)\n",
    "print(decoded_imgs.shape)"
   ]
  },
  {
   "cell_type": "code",
   "execution_count": 53,
   "metadata": {},
   "outputs": [
    {
     "data": {
      "image/png": "[encoded data removed]",
      "text/plain": [
       "<matplotlib.figure.Figure at 0x183e9f5358>"
      ]
     },
     "metadata": {},
     "output_type": "display_data"
    }
   ],
   "source": [
    "plot_result(X_test_noisy,decoded_imgs)"
   ]
  },
  {
   "cell_type": "code",
   "execution_count": null,
   "metadata": {},
   "outputs": [],
   "source": []
  }
 ],
 "metadata": {
  "kernelspec": {
   "display_name": "Python 3",
   "language": "python",
   "name": "python3"
  },
  "language_info": {
   "codemirror_mode": {
    "name": "ipython",
    "version": 3
   },
   "file_extension": ".py",
   "mimetype": "text/x-python",
   "name": "python",
   "nbconvert_exporter": "python",
   "pygments_lexer": "ipython3",
   "version": "3.6.5"
  }
 },
 "nbformat": 4,
 "nbformat_minor": 2
}
