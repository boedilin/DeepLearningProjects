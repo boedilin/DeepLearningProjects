{
 "cells": [
  {
   "cell_type": "markdown",
   "metadata": {},
   "source": [
    "# Multilayer Perceptron from MNIST raw data using Keras\n",
    "\n",
    "This notebook will guide you through the use of the `keras` package to train a multilayer perceptron for handwritten digits classification. You are going to use the `mnist` dataset from LeCun et al. 1998\n",
    "\n",
    "If Keras is not installed: `pip install keras` in your terminal."
   ]
  },
  {
   "cell_type": "markdown",
   "metadata": {},
   "source": [
    "## Loading the packages"
   ]
  },
  {
   "cell_type": "code",
   "execution_count": 4,
   "metadata": {},
   "outputs": [],
   "source": [
    "import numpy as np\n",
    "from matplotlib import pyplot as pl\n",
    "\n",
    "# ... import here the different keras libraries you need\n",
    "from keras.datasets import cifar10\n",
    "from keras.models import Sequential\n",
    "from keras.layers.core import Dense\n",
    "from keras.utils import np_utils\n",
    "from keras.layers import Dropout,Conv2D,Activation,MaxPooling2D,Flatten\n",
    "\n",
    "from sklearn import metrics as me\n",
    "\n",
    "\n",
    "%matplotlib inline"
   ]
  },
  {
   "cell_type": "markdown",
   "metadata": {},
   "source": [
    "## Loading the raw data\n",
    "Keras provides easy access to different datasets including MNIST. First load the `mnist` dataset and normalize it to be in the range [0, 1]"
   ]
  },
  {
   "cell_type": "code",
   "execution_count": 5,
   "metadata": {},
   "outputs": [
    {
     "name": "stdout",
     "output_type": "stream",
     "text": [
      "50000 train samples\n",
      "10000 test samples\n"
     ]
    }
   ],
   "source": [
    "(X_train, y_train), (X_test, y_test) = cifar10.load_data()\n",
    "\n",
    "X_train =  X_train.astype('float32')                       #change the type towards float32\n",
    "X_test =   X_test.astype('float32')                        #idem\n",
    "X_train /= 255.0                                           #normalize the range to be between 0.0 and 1.0\n",
    "X_test /=  255.0\n",
    "print(X_train.shape[0], 'train samples')\n",
    "print(X_test.shape[0], 'test samples')"
   ]
  },
  {
   "cell_type": "markdown",
   "metadata": {},
   "source": [
    "The target values of the network are supposed to be 1-hot targets. Now the `y_train` is an array with scalar values as in `[5 0 4 1 ...]` and it should be a 1-hot array `Y_train` as in : \n",
    "\n",
    "`[[0. 0. 0. 0. 0. 1. 0. 0. 0. 0.]\n",
    " [1. 0. 0. 0. 0. 0. 0. 0. 0. 0.]\n",
    " [0. 0. 0. 0. 1. 0. 0. 0. 0. 0.]\n",
    " [0. 1. 0. 0. 0. 0. 0. 0. 0. 0.]...]`\n",
    " \n",
    "Note the change of capital letter in the `Y_train` to denote, per convention, an array with multiple dimensions."
   ]
  },
  {
   "cell_type": "code",
   "execution_count": 6,
   "metadata": {},
   "outputs": [
    {
     "name": "stdout",
     "output_type": "stream",
     "text": [
      "[[0. 0. 0. 0. 0. 0. 1. 0. 0. 0.]\n",
      " [0. 0. 0. 0. 0. 0. 0. 0. 0. 1.]\n",
      " [0. 0. 0. 0. 0. 0. 0. 0. 0. 1.]\n",
      " [0. 0. 0. 0. 1. 0. 0. 0. 0. 0.]\n",
      " [0. 1. 0. 0. 0. 0. 0. 0. 0. 0.]\n",
      " [0. 1. 0. 0. 0. 0. 0. 0. 0. 0.]\n",
      " [0. 0. 1. 0. 0. 0. 0. 0. 0. 0.]\n",
      " [0. 0. 0. 0. 0. 0. 0. 1. 0. 0.]\n",
      " [0. 0. 0. 0. 0. 0. 0. 0. 1. 0.]\n",
      " [0. 0. 0. 1. 0. 0. 0. 0. 0. 0.]]\n"
     ]
    }
   ],
   "source": [
    "n_classes = 10\n",
    "Y_train = np_utils.to_categorical(y_train, n_classes)   #modify targets to 1-hot using np_utils.to_categorical()\n",
    "Y_test = np_utils.to_categorical(y_test,n_classes)                   #idem \n",
    "print(Y_train[:10])"
   ]
  },
  {
   "cell_type": "markdown",
   "metadata": {},
   "source": [
    "## Define the network\n",
    "The neural network will be a Multi-Layer Perceptron in our case. We will train it using H neurons, through E epochs, using batches of size B. We can try with 300 neuros, 10 epochs and batches of 128 images. We will also need to tell Keras what is the size of our inputs, in our case a linearized vector of size D=784."
   ]
  },
  {
   "cell_type": "code",
   "execution_count": 31,
   "metadata": {},
   "outputs": [],
   "source": [
    "H = 400               # number of neurons\n",
    "E = 20                # number of epochs\n",
    "B = 128               # batch size\n",
    "D = X_train.shape[1]  # dimension of input sample - 784 for MNIST\n",
    "dim = X_train.shape[3]\n",
    "\n",
    "# paramters: nr. weights: 784*300, nr. b: 300\n",
    "\n",
    "model = Sequential()                                    # define the model as a Sequential type\n",
    "model.add(Conv2D(D,(dim,dim),strides=1, padding='same'))  # add the hidden layer of type Dense with relu activation\n",
    "model.add(Activation('relu'))\n",
    "\n",
    "model.add(Dropout(0.3))\n",
    " \n",
    "model.add(Conv2D(32,(3,3),padding='same', activation='relu'))\n",
    "model.add(MaxPooling2D(pool_size=(2,2)))\n",
    " \n",
    "model.add(Conv2D(64,(3,3),padding='same',activation='relu'))\n",
    "model.add(Dropout(0.3))\n",
    " \n",
    "model.add(Conv2D(64,(3,3),padding='same',activation='relu'))\n",
    "model.add(MaxPooling2D(pool_size=(2,2)))\n",
    " \n",
    "model.add(Conv2D(128,(3,3),padding='same',activation='relu'))\n",
    "model.add(Dropout(0.3))\n",
    " \n",
    "model.add(Conv2D(128,(3,3),padding='same',activation='relu'))\n",
    "model.add(MaxPooling2D(pool_size=(2,2)))\n",
    " \n",
    "model.add(Flatten())\n",
    "model.add(Dropout(0.2))\n",
    "model.add(Dense(n_classes, activation='softmax'))"
   ]
  },
  {
   "cell_type": "markdown",
   "metadata": {},
   "source": [
    "## Compile and train the network\n",
    "In Keras, we call the methods `compile()` and `fit()`. For the compile phase, we need to specify the **loss** function which should be set in the case of multi-class classification to `categorical_crossentropy`. We also need to specify the optimizer strategy. In this case the `rmsprop` or `adam` can be used."
   ]
  },
  {
   "cell_type": "code",
   "execution_count": 32,
   "metadata": {},
   "outputs": [
    {
     "name": "stdout",
     "output_type": "stream",
     "text": [
      "Train on 50000 samples, validate on 10000 samples\n",
      "Epoch 1/20\n",
      "50000/50000 [==============================] - 441s 9ms/step - loss: 1.8525 - acc: 0.3268 - val_loss: 1.6277 - val_acc: 0.4329\n",
      "Epoch 2/20\n",
      "50000/50000 [==============================] - 409s 8ms/step - loss: 1.3656 - acc: 0.5136 - val_loss: 1.1965 - val_acc: 0.5759\n",
      "Epoch 3/20\n",
      "50000/50000 [==============================] - 482s 10ms/step - loss: 1.1379 - acc: 0.5982 - val_loss: 1.0298 - val_acc: 0.6406\n",
      "Epoch 4/20\n",
      "50000/50000 [==============================] - 485s 10ms/step - loss: 0.9959 - acc: 0.6475 - val_loss: 0.9546 - val_acc: 0.6717\n",
      "Epoch 5/20\n",
      "50000/50000 [==============================] - 444s 9ms/step - loss: 0.8940 - acc: 0.6865 - val_loss: 0.9153 - val_acc: 0.6813\n",
      "Epoch 6/20\n",
      "50000/50000 [==============================] - 438s 9ms/step - loss: 0.8149 - acc: 0.7144 - val_loss: 0.8316 - val_acc: 0.7161\n",
      "Epoch 7/20\n",
      "50000/50000 [==============================] - 374s 7ms/step - loss: 0.7532 - acc: 0.7370 - val_loss: 0.8592 - val_acc: 0.7029\n",
      "Epoch 8/20\n",
      "50000/50000 [==============================] - 401s 8ms/step - loss: 0.7032 - acc: 0.7535 - val_loss: 0.7138 - val_acc: 0.7537\n",
      "Epoch 9/20\n",
      "50000/50000 [==============================] - 379s 8ms/step - loss: 0.6607 - acc: 0.7683 - val_loss: 0.7141 - val_acc: 0.7518\n",
      "Epoch 10/20\n",
      "50000/50000 [==============================] - 351s 7ms/step - loss: 0.6229 - acc: 0.7818 - val_loss: 0.6793 - val_acc: 0.7610\n",
      "Epoch 11/20\n",
      "50000/50000 [==============================] - 387s 8ms/step - loss: 0.5847 - acc: 0.7966 - val_loss: 0.6971 - val_acc: 0.7649\n",
      "Epoch 12/20\n",
      "50000/50000 [==============================] - 384s 8ms/step - loss: 0.5605 - acc: 0.8044 - val_loss: 0.7302 - val_acc: 0.7551\n",
      "Epoch 13/20\n",
      "50000/50000 [==============================] - 367s 7ms/step - loss: 0.5335 - acc: 0.8142 - val_loss: 0.6238 - val_acc: 0.7873\n",
      "Epoch 14/20\n",
      "50000/50000 [==============================] - 367s 7ms/step - loss: 0.5190 - acc: 0.8177 - val_loss: 0.6123 - val_acc: 0.7940\n",
      "Epoch 15/20\n",
      "50000/50000 [==============================] - 350s 7ms/step - loss: 0.4950 - acc: 0.8256 - val_loss: 0.6546 - val_acc: 0.7816\n",
      "Epoch 16/20\n",
      "50000/50000 [==============================] - 360s 7ms/step - loss: 0.4786 - acc: 0.8334 - val_loss: 0.6414 - val_acc: 0.7829\n",
      "Epoch 17/20\n",
      "50000/50000 [==============================] - 352s 7ms/step - loss: 0.4667 - acc: 0.8351 - val_loss: 0.6151 - val_acc: 0.7933\n",
      "Epoch 18/20\n",
      "50000/50000 [==============================] - 349s 7ms/step - loss: 0.4542 - acc: 0.8406 - val_loss: 0.6442 - val_acc: 0.7865\n",
      "Epoch 19/20\n",
      "50000/50000 [==============================] - 368s 7ms/step - loss: 0.4486 - acc: 0.8430 - val_loss: 0.6149 - val_acc: 0.7927\n",
      "Epoch 20/20\n",
      "50000/50000 [==============================] - 437s 9ms/step - loss: 0.4333 - acc: 0.8487 - val_loss: 0.6119 - val_acc: 0.7915\n",
      "_________________________________________________________________\n",
      "Layer (type)                 Output Shape              Param #   \n",
      "=================================================================\n",
      "conv2d_13 (Conv2D)           (None, 32, 32, 32)        896       \n",
      "_________________________________________________________________\n",
      "activation_10 (Activation)   (None, 32, 32, 32)        0         \n",
      "_________________________________________________________________\n",
      "dropout_7 (Dropout)          (None, 32, 32, 32)        0         \n",
      "_________________________________________________________________\n",
      "conv2d_14 (Conv2D)           (None, 32, 32, 32)        9248      \n",
      "_________________________________________________________________\n",
      "max_pooling2d_9 (MaxPooling2 (None, 16, 16, 32)        0         \n",
      "_________________________________________________________________\n",
      "conv2d_15 (Conv2D)           (None, 16, 16, 64)        18496     \n",
      "_________________________________________________________________\n",
      "dropout_8 (Dropout)          (None, 16, 16, 64)        0         \n",
      "_________________________________________________________________\n",
      "conv2d_16 (Conv2D)           (None, 16, 16, 64)        36928     \n",
      "_________________________________________________________________\n",
      "max_pooling2d_10 (MaxPooling (None, 8, 8, 64)          0         \n",
      "_________________________________________________________________\n",
      "conv2d_17 (Conv2D)           (None, 8, 8, 128)         73856     \n",
      "_________________________________________________________________\n",
      "dropout_9 (Dropout)          (None, 8, 8, 128)         0         \n",
      "_________________________________________________________________\n",
      "conv2d_18 (Conv2D)           (None, 8, 8, 128)         147584    \n",
      "_________________________________________________________________\n",
      "max_pooling2d_11 (MaxPooling (None, 4, 4, 128)         0         \n",
      "_________________________________________________________________\n",
      "flatten_8 (Flatten)          (None, 2048)              0         \n",
      "_________________________________________________________________\n",
      "dropout_10 (Dropout)         (None, 2048)              0         \n",
      "_________________________________________________________________\n",
      "dense_8 (Dense)              (None, 10)                20490     \n",
      "=================================================================\n",
      "Total params: 307,498\n",
      "Trainable params: 307,498\n",
      "Non-trainable params: 0\n",
      "_________________________________________________________________\n"
     ]
    }
   ],
   "source": [
    "# compile the model with a crossentropy loss, rmsprop optimizer \n",
    "# and defining metrics to be stored as history of the training\n",
    "model.compile(loss='categorical_crossentropy', optimizer='rmsprop', metrics=['accuracy']) \n",
    "\n",
    "\n",
    "# call the training with the fit() function giving the tensors as \n",
    "# inputs, defining batch size, number of epochs and validation data\n",
    "log = model.fit(X_train, Y_train, batch_size=B, epochs=E, verbose=1, validation_data=(X_test,Y_test))\n",
    "\n",
    "model.summary()# print model infomration with summary() method"
   ]
  },
  {
   "cell_type": "markdown",
   "metadata": {},
   "source": [
    "## Evaluate the network\n",
    "\n",
    "We can do this at three levels: (1) plot of the loss during the training phase, (2) overall accuracy evaluation on test set and (3) per class evaluation with confusion matrix on test set.\n",
    "\n",
    "### Loss evolution during training\n",
    "This can be done first looking at the history of the training (output of the `fit()` function)."
   ]
  },
  {
   "cell_type": "code",
   "execution_count": 33,
   "metadata": {
    "scrolled": true
   },
   "outputs": [
    {
     "data": {
      "image/png": "[encoded data removed]",
      "text/plain": [
       "<Figure size 432x288 with 1 Axes>"
      ]
     },
     "metadata": {},
     "output_type": "display_data"
    }
   ],
   "source": [
    "pl.plot(log.history['loss'], label='Training')\n",
    "pl.plot(log.history['val_loss'], label='Testing')\n",
    "pl.legend()\n",
    "pl.grid()"
   ]
  },
  {
   "cell_type": "markdown",
   "metadata": {},
   "source": [
    "### Model evaluation\n",
    "We can compute the overall performance on test set calling the `evaluate()` function on the model. The function returns the loss and the metrics used to compile the models."
   ]
  },
  {
   "cell_type": "code",
   "execution_count": 34,
   "metadata": {},
   "outputs": [
    {
     "name": "stdout",
     "output_type": "stream",
     "text": [
      "10000/10000 [==============================] - 25s 3ms/step\n",
      "Test loss: 0.6119440766334534\n",
      "Test accuracy: 0.7915\n"
     ]
    }
   ],
   "source": [
    "loss_test, metric_test = model.evaluate(X_test, Y_test,verbose=1) # evaluate model performance on test set\n",
    "print('Test loss:', loss_test)\n",
    "print('Test accuracy:', metric_test)"
   ]
  },
  {
   "cell_type": "markdown",
   "metadata": {},
   "source": [
    "### Confusion matrix\n",
    "We can call the `predict_classes()` function to get the predicted classes. The output of this function is an array with the predicted class labels as in `[5 0 4 1 ...]`. The output array of ground truth `y_test` and the predicted classes can then be fed to the `confusion_matrix()` function of [sklearn metrics package](http://scikit-learn.org/stable/modules/generated/sklearn.metrics.confusion_matrix.html#sklearn.metrics.confusion_matrix)."
   ]
  },
  {
   "cell_type": "code",
   "execution_count": 35,
   "metadata": {},
   "outputs": [
    {
     "name": "stdout",
     "output_type": "stream",
     "text": [
      "10000/10000 [==============================] - 23s 2ms/step\n"
     ]
    },
    {
     "data": {
      "text/plain": [
       "array([[815,   9,  38,   9,  12,   1,   0,   7,  85,  24],\n",
       "       [  5, 906,   5,   2,   4,   1,   4,   1,  26,  46],\n",
       "       [ 64,   1, 763,  29,  67,  23,  14,  25,  11,   3],\n",
       "       [ 23,   7,  71, 665,  52,  92,  27,  36,  20,   7],\n",
       "       [ 17,   3,  61,  50, 790,  12,  13,  44,   8,   2],\n",
       "       [ 13,   2,  84, 163,  42, 619,  10,  56,   6,   5],\n",
       "       [  9,   6,  86,  78,  43,  21, 731,  12,  11,   3],\n",
       "       [ 14,   0,  31,  40,  43,  17,   1, 840,   6,   8],\n",
       "       [ 32,  13,  10,   3,   1,   0,   1,   3, 929,   8],\n",
       "       [ 27,  61,   7,  13,   5,   3,   1,   8,  18, 857]])"
      ]
     },
     "execution_count": 35,
     "metadata": {},
     "output_type": "execute_result"
    }
   ],
   "source": [
    "pred = model.predict_classes(X_test, verbose=1)\n",
    "me.confusion_matrix(y_test, pred)"
   ]
  },
  {
   "cell_type": "code",
   "execution_count": null,
   "metadata": {},
   "outputs": [],
   "source": []
  }
 ],
 "metadata": {
  "kernelspec": {
   "display_name": "Python 3",
   "language": "python",
   "name": "python3"
  },
  "language_info": {
   "codemirror_mode": {
    "name": "ipython",
    "version": 3
   },
   "file_extension": ".py",
   "mimetype": "text/x-python",
   "name": "python",
   "nbconvert_exporter": "python",
   "pygments_lexer": "ipython3",
   "version": "3.6.8"
  }
 },
 "nbformat": 4,
 "nbformat_minor": 2
}
